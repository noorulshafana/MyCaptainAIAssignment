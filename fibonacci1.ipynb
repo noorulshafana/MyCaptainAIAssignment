{
 "cells": [
  {
   "cell_type": "code",
   "execution_count": 3,
   "id": "d9fbe3cd-c01f-4fb4-83b8-acb3c7742e20",
   "metadata": {},
   "outputs": [
    {
     "name": "stdout",
     "output_type": "stream",
     "text": [
      "0 1 1 2 3 5 8 13 21 34 "
     ]
    }
   ],
   "source": [
    "n = 10\n",
    "\n",
    "a, b = 0, 1\n",
    "print(a, end=\" \")\n",
    "\n",
    "if n > 1:\n",
    "    print(b, end=\" \")\n",
    "\n",
    "    for _ in range(2, n):\n",
    "        c = a + b\n",
    "        print(c, end=\" \")\n",
    "        a, b = b, c"
   ]
  },
  {
   "cell_type": "code",
   "execution_count": null,
   "id": "734b5c10-99d9-437a-957d-34fefb82c7d1",
   "metadata": {},
   "outputs": [],
   "source": []
  }
 ],
 "metadata": {
  "kernelspec": {
   "display_name": "Python 3 (ipykernel)",
   "language": "python",
   "name": "python3"
  },
  "language_info": {
   "codemirror_mode": {
    "name": "ipython",
    "version": 3
   },
   "file_extension": ".py",
   "mimetype": "text/x-python",
   "name": "python",
   "nbconvert_exporter": "python",
   "pygments_lexer": "ipython3",
   "version": "3.12.6"
  }
 },
 "nbformat": 4,
 "nbformat_minor": 5
}
