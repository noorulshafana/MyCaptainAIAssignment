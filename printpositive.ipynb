{
 "cells": [
  {
   "cell_type": "code",
   "execution_count": 1,
   "id": "e667aee1-88e6-4f83-b368-50dc5ca267c6",
   "metadata": {},
   "outputs": [
    {
     "name": "stdout",
     "output_type": "stream",
     "text": [
      "Output: [12, 5, 64]\n",
      "Output: [12, 14, 3]\n"
     ]
    }
   ],
   "source": [
    "list1 = [12, -7, 5, 64, -14]\n",
    "list2 = [12, 14, -95, 3]\n",
    "\n",
    "\n",
    "positive_list1 = [num for num in list1 if num > 0]\n",
    "positive_list2 = [num for num in list2 if num > 0]\n",
    "\n",
    "print(\"Output:\", positive_list1)\n",
    "print(\"Output:\", positive_list2)"
   ]
  },
  {
   "cell_type": "code",
   "execution_count": null,
   "id": "910cefae-c9ad-4f61-883b-ed2252a929a9",
   "metadata": {},
   "outputs": [],
   "source": []
  }
 ],
 "metadata": {
  "kernelspec": {
   "display_name": "Python 3 (ipykernel)",
   "language": "python",
   "name": "python3"
  },
  "language_info": {
   "codemirror_mode": {
    "name": "ipython",
    "version": 3
   },
   "file_extension": ".py",
   "mimetype": "text/x-python",
   "name": "python",
   "nbconvert_exporter": "python",
   "pygments_lexer": "ipython3",
   "version": "3.12.6"
  }
 },
 "nbformat": 4,
 "nbformat_minor": 5
}
