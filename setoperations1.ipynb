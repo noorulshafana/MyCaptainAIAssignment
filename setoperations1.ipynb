{
 "cells": [
  {
   "cell_type": "code",
   "execution_count": 1,
   "id": "990b48b4-451b-4f11-9112-0b3abe01f327",
   "metadata": {},
   "outputs": [
    {
     "name": "stdout",
     "output_type": "stream",
     "text": [
      "Union of E and N is {0, 1, 2, 3, 4, 5, 6, 8}\n",
      "Intersection of E and N is {2, 4}\n",
      "Difference of E and N is {8, 6}\n",
      "Symmetric difference of E and N is {0, 1, 3, 5, 6, 8}\n"
     ]
    }
   ],
   "source": [
    "E = {2, 4, 6, 8}\n",
    "N = {0, 1, 2, 3, 4, 5}\n",
    "union_set = E | N  \n",
    "intersection_set = E & N  \n",
    "difference_set = E - N \n",
    "symmetric_difference_set = E ^ N \n",
    "print(\"Union of E and N is\", union_set)\n",
    "print(\"Intersection of E and N is\", intersection_set)\n",
    "print(\"Difference of E and N is\", difference_set)\n",
    "print(\"Symmetric difference of E and N is\", symmetric_difference_set)"
   ]
  },
  {
   "cell_type": "code",
   "execution_count": null,
   "id": "b4752e4c-a53e-4131-90b7-f191bf10dba9",
   "metadata": {},
   "outputs": [],
   "source": []
  }
 ],
 "metadata": {
  "kernelspec": {
   "display_name": "Python 3 (ipykernel)",
   "language": "python",
   "name": "python3"
  },
  "language_info": {
   "codemirror_mode": {
    "name": "ipython",
    "version": 3
   },
   "file_extension": ".py",
   "mimetype": "text/x-python",
   "name": "python",
   "nbconvert_exporter": "python",
   "pygments_lexer": "ipython3",
   "version": "3.12.6"
  }
 },
 "nbformat": 4,
 "nbformat_minor": 5
}
