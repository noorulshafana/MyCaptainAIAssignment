{
 "cells": [
  {
   "cell_type": "code",
   "execution_count": null,
   "id": "d9fbe3cd-c01f-4fb4-83b8-acb3c7742e20",
   "metadata": {},
   "outputs": [],
   "source": []
  }
 ],
 "metadata": {
  "kernelspec": {
   "display_name": "",
   "name": ""
  },
  "language_info": {
   "name": ""
  }
 },
 "nbformat": 4,
 "nbformat_minor": 5
}
