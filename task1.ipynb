{
 "cells": [
  {
   "cell_type": "code",
   "execution_count": null,
   "id": "1fae2142-a0a3-4f4a-ae20-d37d09c734db",
   "metadata": {},
   "outputs": [],
   "source": []
  }
 ],
 "metadata": {
  "kernelspec": {
   "display_name": "",
   "name": ""
  },
  "language_info": {
   "name": ""
  }
 },
 "nbformat": 4,
 "nbformat_minor": 5
}
